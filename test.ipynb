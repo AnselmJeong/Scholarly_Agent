{
 "cells": [
  {
   "cell_type": "markdown",
   "metadata": {},
   "source": [
    "## Try tools"
   ]
  },
  {
   "cell_type": "code",
   "execution_count": 84,
   "metadata": {},
   "outputs": [],
   "source": [
    "from IPython.display import Image, display\n",
    "from langgraph.graph.state import CompiledStateGraph\n",
    "from dotenv import load_dotenv\n",
    "import os\n",
    "\n",
    "load_dotenv()\n",
    "\n",
    "\n",
    "def display_graph(graph):\n",
    "    display(Image(graph.get_graph().draw_mermaid_png()))\n",
    "\n",
    "\n",
    "CompiledStateGraph.draw = display_graph\n"
   ]
  },
  {
   "cell_type": "code",
   "execution_count": 91,
   "metadata": {},
   "outputs": [],
   "source": [
    "from langchain_community.retrievers.pubmed import PubMedRetriever\n",
    "from langchain_core.tools import tool\n",
    "\n",
    "\n",
    "@tool\n",
    "def pubmed_search(query: str) -> str:\n",
    "    \"\"\"Search PubMed for papers on a given topic\"\"\"\n",
    "\n",
    "    def _format_response(responses):\n",
    "        papers = [\n",
    "            {\n",
    "                \"pmid\": paper.metadata[\"uid\"],\n",
    "                \"title\": paper.metadata[\"Title\"],\n",
    "                \"pub_date\": paper.metadata[\"Published\"],\n",
    "                \"abstract\": paper.page_content,\n",
    "            }\n",
    "            for paper in responses\n",
    "        ]\n",
    "\n",
    "        markdown_text = \"# PubMed Search Results\\n\\n\"\n",
    "\n",
    "        for paper in papers:\n",
    "            markdown_text += f\"## {paper['title']}\\n\"\n",
    "            markdown_text += f\"**PMID**: {paper['pmid']} | **Published**: {paper['pub_date']}\\n\\n\"\n",
    "            markdown_text += f\"**Abstract**:\\n{paper['abstract']}\\n\\n\"\n",
    "\n",
    "        return markdown_text\n",
    "\n",
    "    pm_retriever = PubMedRetriever(top_k_results=20, api_key=os.getenv(\"NCBI_API_KEY\"))\n",
    "    responses = pm_retriever.invoke(query)\n",
    "\n",
    "    return _format_response(responses)\n"
   ]
  },
  {
   "cell_type": "code",
   "execution_count": 92,
   "metadata": {},
   "outputs": [],
   "source": [
    "from langgraph.graph import StateGraph, START, add_messages\n",
    "from langchain_openai.chat_models import ChatOpenAI\n",
    "from langgraph.prebuilt import ToolNode, tools_condition\n",
    "from typing import TypedDict, Annotated\n",
    "\n",
    "\n",
    "llm = ChatOpenAI(model=\"gpt-4o-mini\", temperature=0)\n",
    "llm_with_tools = llm.bind_tools([pubmed_search])\n",
    "\n",
    "tool_node = ToolNode([pubmed_search])"
   ]
  },
  {
   "cell_type": "code",
   "execution_count": 76,
   "metadata": {},
   "outputs": [],
   "source": [
    "def chatbot(state: dict) -> dict:\n",
    "    response = llm_with_tools.invoke(state[\"messages\"])\n",
    "    return {\"messages\": [response]}\n",
    "\n",
    "\n",
    "class State(TypedDict):\n",
    "    messages: Annotated[list, add_messages]\n",
    "\n",
    "\n",
    "graph_builder = StateGraph(State)\n",
    "graph_builder.add_node(\"chatbot\", chatbot)\n",
    "graph_builder.add_node(\"tools\", tool_node)\n",
    "\n",
    "graph_builder.add_edge(START, \"chatbot\")\n",
    "graph_builder.add_edge(\"tools\", \"chatbot\")\n",
    "graph_builder.add_conditional_edges(\"chatbot\", tools_condition)\n",
    "graph = graph_builder.compile()\n"
   ]
  },
  {
   "cell_type": "code",
   "execution_count": 77,
   "metadata": {},
   "outputs": [
    {
     "data": {
      "image/png": "[encoded data removed]",
      "text/plain": [
       "<IPython.core.display.Image object>"
      ]
     },
     "metadata": {},
     "output_type": "display_data"
    }
   ],
   "source": [
    "graph.draw()"
   ]
  },
  {
   "cell_type": "code",
   "execution_count": 94,
   "metadata": {},
   "outputs": [],
   "source": [
    "response = graph.invoke({\n",
    "    \"messages\": [\n",
    "        \"discuss the latest research findings on the emerging complications of Cart T-cell therapy for cancer\"\n",
    "    ]\n",
    "})"
   ]
  },
  {
   "cell_type": "code",
   "execution_count": 95,
   "metadata": {},
   "outputs": [
    {
     "name": "stdout",
     "output_type": "stream",
     "text": [
      "Recent research on CAR T-cell therapy has highlighted several emerging complications and concerns associated with its use in cancer treatment. Here are some of the key findings from the latest studies:\n",
      "\n",
      "1. **Secondary Malignancies and T-cell Neoplasias**:\n",
      "   - A study published in February 2025 discusses the increasing incidence of secondary malignancies, particularly T-cell neoplasias, following CAR T-cell therapy. The FDA issued a warning regarding the potential for these complications, emphasizing the need for awareness of patient risk factors and the implications of CAR-T engineering strategies that may elevate this risk (PMID: 39894954).\n",
      "\n",
      "2. **Thrombocytopenia**:\n",
      "   - Research from January 2025 evaluated the use of thrombopoietin receptor agonists (TPO-RAs) for managing prolonged thrombocytopenia after CAR T-cell therapy. The study found no significant clinical benefit from TPO-RAs compared to supportive care, indicating that while these agents are theoretically beneficial, their efficacy in this context remains unproven (PMID: 39880098).\n",
      "\n",
      "3. **Cardiovascular Toxicity**:\n",
      "   - A January 2025 study analyzed cardiovascular toxicity in patients treated with CD19 CAR T cells. The findings revealed a notable incidence of cardiovascular events, including arrhythmias and heart failure, particularly in elderly patients. The study underscores the importance of monitoring cardiovascular health in patients undergoing CAR T-cell therapy (PMID: 39754193).\n",
      "\n",
      "4. **Economic Impact of Complications**:\n",
      "   - An economic evaluation highlighted that while CAR T-cell therapy is effective, the associated complications can lead to significant healthcare costs, particularly in critically ill patients. The study suggests that the costs related to intensive care for CAR-T complications are relatively low compared to the overall expenses of CAR-T therapy (PMID: 39739037).\n",
      "\n",
      "5. **Neurological Complications**:\n",
      "   - A narrative review published in September 2024 discussed the increasing incidence of neurological complications associated with CAR T-cell therapy. These complications can significantly impair patients' quality of life, necessitating early detection and interdisciplinary management strategies (PMID: 39317778).\n",
      "\n",
      "6. **Infection Risks**:\n",
      "   - A study on antifungal prophylaxis in lymphoma patients treated with CAR T-cell therapy found that individualized prophylactic strategies led to a low incidence of invasive fungal infections, suggesting that careful management of immunosuppression can mitigate infection risks (PMID: 39448032).\n",
      "\n",
      "7. **Impact of Weight Loss**:\n",
      "   - Research indicated that cancer cachexia and weight loss prior to CAR T-cell therapy are associated with poorer outcomes. Patients experiencing significant weight loss showed higher rates of toxicity and worse survival rates, highlighting the need for nutritional assessment and intervention in this patient population (PMID: 39471490).\n",
      "\n",
      "These findings collectively emphasize the complexity of managing CAR T-cell therapy, as emerging complications can significantly impact patient outcomes and healthcare costs. Ongoing research is crucial to better understand these risks and develop strategies to mitigate them.\n"
     ]
    }
   ],
   "source": [
    "print(response[\"messages\"][-1].content)"
   ]
  },
  {
   "cell_type": "code",
   "execution_count": 82,
   "metadata": {},
   "outputs": [],
   "source": [
    "from langchain_community.tools import PubmedQueryRun\n",
    "from langchain_community.utilities.pubmed import PubMedAPIWrapper"
   ]
  },
  {
   "cell_type": "code",
   "execution_count": 86,
   "metadata": {},
   "outputs": [],
   "source": [
    "pubmed_wrapper = PubMedAPIWrapper(api_key=os.getenv(\"NCBI_API_KEY\"), top_k_results=10)\n",
    "pqr = PubmedQueryRun(api_wrapper=pubmed_wrapper)"
   ]
  },
  {
   "cell_type": "code",
   "execution_count": 89,
   "metadata": {},
   "outputs": [
    {
     "data": {
      "text/plain": [
       "'# PubMed Search Results\\n\\n## T-cell neoplasias and secondary malignancies after CAR-T cell therapy: current knowledge, risk factors, and implications from CAR-T engineering strategies.\\n**PMID**: 39894954\\n**Published**: 2025-02-02\\n\\n**Abstract**:\\nWidespread use of CAR-T cell therapies for treatment of B cell malignancies has resulted in a frameshift in treatment strategies and improved patient outcomes since the first CAR-T product was FDA approved in 2017. Currently over 30,000 patients have been treated with approved CAR-T cell products, with many more likely to be treated in future, both as standard of care therapy as well as on clinical trials. As more patients are treated, development of rare complications has begun to emerge, and the incidence of second primary malignancies after CAR-T cell therapy is evolving from a hypothetical to a realized concern. Furthermore, in November 2023, the FDA issued a warning regarding the potential for CAR-T cell-derived T cell neoplasias to arise as a result of CAR-T manufacturing. Here we review patient risk factors for development of second primary malignancies including T cell neoplasias, CAR-T engineering strategies that may increase this risk, and the current body of literature surrounding incidence of second primary malignancies and case reports of T cell neoplasias arising after CAR-T cell therapy.\\n\\n---\\n\\n## Treatment failure patterns in early versus late introduction of CAR T-cell therapy in large B-cell lymphoma.\\n**PMID**: 39893244\\n**Published**: 2025-02-01\\n\\n**Abstract**:\\nCD19-directed chimeric antigen receptor T-cell (CAR-T) therapy has recently been approved as second-line treatment for relapsed/refractory large B-cell lymphoma (LBCL). This study compares patterns of disease relapse and progression across patients receiving CAR-T as second-line (early administration) versus third or subsequent lines (late administration). We analyzed 354 patients treated with Axicabtagene ciloleucel (71%) and Lisocabtagene maraleucel (29%); 80 (23%) received early administration, and 274 (77%) late administration. One-year overall survival was higher in the early group (82% [95% CI 72-93] vs. 71% [95% CI 66-77], p\\u2009=\\u20090.048). However, the survival benefit was not sustained in multivariable Cox regression modeling and propensity score matching. One-year cumulative incidences of relapse were similar (37% [95% CI 24-50] vs. 43% [95% CI 37-49], p\\u2009=\\u20090.2), as were 1-year progression-free survival probabilities (62% [95% CI 50-76] vs. 50% [95% CI 44-57], p\\u2009=\\u20090.14). The early group exhibited a favorable toxicity profile, with lower rate of grade ≥2 cytokine release syndrome (26% vs. 39%, p\\u2009=\\u20090.031) and reduced cumulative incidence of severe neutropenia (41% [95% CI 30-52] vs. 55% [95% CI 49-60], p\\u2009=\\u20090.027). Our results indicate favorable outcomes with CAR-T irrespective of treatment line. The equivalence in disease control suggests that CAR-T resistance mechanisms persist in LBCL failing first-line therapy.\\n\\n---\\n\\n## Allogeneic CD33-directed CAR-NKT cells for the treatment of bone marrow-resident myeloid malignancies.\\n**PMID**: 39893165\\n**Published**: 2025-02-01\\n\\n**Abstract**:\\nChimeric antigen receptor (CAR)-engineered T cell therapy holds promise for treating myeloid malignancies, but challenges remain in bone marrow (BM) infiltration and targeting BM-resident malignant cells. Current autologous CAR-T therapies also face manufacturing and patient selection issues, underscoring the need for off-the-shelf products. In this study, we characterize primary patient samples and identify a unique therapeutic opportunity for CAR-engineered invariant natural killer T (CAR-NKT) cells. Using stem cell gene engineering and a clinically guided culture method, we generate allogeneic CD33-directed CAR-NKT cells with high yield, purity, and robustness. In preclinical mouse models, CAR-NKT cells exhibit strong BM homing and effectively target BM-resident malignant blast cells, including CD33-low/negative leukemia stem and progenitor cells. Furthermore, CAR-NKT cells synergize with hypomethylating agents, enhancing tumor-killing efficacy. These cells also show minimal off-tumor toxicity, reduced graft-versus-host disease and cytokine release syndrome risks, and resistance to allorejection, highlighting their substantial therapeutic potential for treating myeloid malignancies.\\n\\n---\\n\\n## Selective JAK2 pathway inhibition enhances anti-leukemic functionality in CD19 CAR-T cells.\\n**PMID**: 39891728\\n**Published**: 2025-02-01\\n\\n**Abstract**:\\nThe integration of molecular targeted therapeutics with chimeric antigen receptor T (CAR-T) cell therapy represents a novel strategy to amplify the anti-tumor efficacy of immunotherapy. While CD19-targeted CAR-T cells and Janus kinase (JAK) inhibitors have independently shown efficacy against certain B-cell leukemias, such as Philadelphia chromosome-like acute lymphoblastic leukemia, the concurrent use of JAK1/2 inhibitors, such as ruxolitinib, has been implicated in reducing CAR-T cell potency by inhibiting the JAK1-dependent T cell activation pathway. This study explores the combinatorial use of a selective type II JAK2 inhibitor, CHZ868, with CD19 CAR-T cells, revealing a synergistic enhancement of anti-leukemic activity across B-cell tumor models irrespective of JAK2 mutational status. CHZ868-mediated JAK2 inhibition did not induce the exhaustion of CAR-T cells, maintaining efficacy over repeated tumor challenges and significantly extending survival in mouse models engrafted with JAK2 inhibitor-resistant leukemia cells (median survival, CD19 CAR-T\\u2009+\\u2009CHZ868 vs. CD19 CAR-T\\u2009+\\u2009DMSO: 32\\xa0days vs. 26\\xa0days, p\\u2009=\\u20090.0303). Transcriptomic analyses suggest that CHZ868 impedes CAR-T cell differentiation while preserving their proliferative capacity, a crucial factor in maintaining CAR-T cell functionality. Therefore, the selective inhibition of the JAK2 pathway may potentiate CAR-T cell therapy and offer a viable treatment strategy for patients with resistant B-cell leukemias.\\n\\n---\\n\\n## Pulmonary Immunocompromise in Stem Cell Transplantation and Cellular Therapy.\\n**PMID**: 39890284\\n**Published**: 2024-11-29\\n\\n**Abstract**:\\nHematopoietic cell transplantation (HCT) and cellular therapies, such as chimeric-antigen receptor T-cell (CAR-T) treatments, are potentially curative treatments for certain hematologic malignancies and some nonmalignant disorders. However, pulmonary complications, both infectious and noninfectious, remain a significant cause of morbidity and mortality in patients who receive cellular therapies. This review article provides an overview of pulmonary complications encountered in the context of HCT and CAR-T. The authors discuss mechanisms of underlying immunocompromise that lead to a rise in infections. Additionally, they highlight key noninfectious complications of HCT that can mimic acute infections and suggest diagnostic approaches and preventive strategies to distinguish these entities promptly.\\n\\n---\\n\\n## Recent advances in immunotherapy for cervical cancer.\\n**PMID**: 39888529\\n**Published**: 2025-01-31\\n\\n**Abstract**:\\nCervical cancer is the third most common malignant tumor in women worldwide in terms of both incidence and mortality. The field of cervical cancer treatment is rapidly evolving, and various combination therapies are being explored to enhance the efficacy of immune checkpoint inhibitors (ICI) and provide new treatment options for patients at different disease stages. Clinical trials involving immune checkpoint inhibitors are now being conducted following a phase 3 trial with cemiplimab, an ICI, which demonstrated a significant improvement in prognosis in advanced or metastatic cervical cancer patients. These trials include monotherapy and combination therapy with other immune therapies, chemotherapy, or radiation therapy. Furthermore, other approaches for controlling tumors via the immune system, such as therapeutic vaccination for specific tumor antigens or immune cell therapy including chimeric antigen receptor (CAR)-T cell therapy and tumor-infiltrating lymphocytes are being investigated. Ongoing trials will continue to illuminate the optimal strategies for combining these therapies and addressing challenges associated with immune checkpoint failure in cervical cancer. Herein, we conducted a review of articles related to immunotherapy for cervical cancer and describe current treatment strategies for cervical cancer via immunotherapy.\\n\\n---\\n\\n## The patient and caregiver experience of CAR T-cell therapy: A qualitative analysis.\\n**PMID**: 39883430\\n**Published**: 2025-01-30\\n\\n**Abstract**:\\nBACKGROUND/PURPOSE: Immunotherapies, such as CAR-T, have revolutionized cancer treatment for some cancers. However, these treatments often require active participation of a family member or friend to act as a caregiver at home for several weeks after infusion. Given the novelty of CAR-T, there is a need to better understand the experience of patients receiving these treatments and their caregivers.\\nMETHODS: As part of a larger study, patients receiving CAR-T and their caregivers were recruited to participate in semi-structured interviews about their experiences in treatment within a week of hospital discharge. Guided by the Dyadic Cancer Outcomes framework and using an inductive approach, trained coders qualitatively analyzed interview transcripts to identify key themes.\\nRESULTS: Ten patients and nine of their caregivers participated in interviews in 2021. Three key themes surrounding CAR-T experiences were identified: individual, relational, and contextual. Firstly, the CAR-T experience impacted physical and psychosocial aspects of life for patients and caregivers. Secondly, the isolating and intensive nature of caregiving after discharge affected relationships between patients and caregivers. Thirdly, social contexts such as food, housing, and travel costs complicated the treatment experience.\\nCONCLUSIONS: Although CAR-T is a novel treatment, the experiences of patients and especially caregivers are often similar to those receiving other forms of cancer treatment. However, due to the requirement of a constantly-present caregiver in the weeks after therapy, these experiences may have been intensified. Future work is needed to develop inclusive, family-centered programs to help support patients and their caregivers through cancer treatments.\\n\\n---\\n\\n## Alloreactive-free CAR-VST therapy: a step forward in long-term tumor control in viral context.\\n**PMID**: 39882248\\n**Published**: 2025-01-15\\n\\n**Abstract**:\\nCAR-T cell therapy has revolutionized immunotherapy but its allogeneic application, using various strategies, faces significant challenges including graft-versus-host disease and graft rejection. Recent advances using Virus Specific T cells to generate CAR-VST have demonstrated potential for enhanced persistence and antitumor efficacy, positioning CAR-VSTs as a promising alternative to conventional CAR-T cells in an allogeneic setting. This review provides a comprehensive overview of CAR-VST development, emphasizing strategies to mitigate immunogenicity, such as using a specialized TCR, and approaches to improve therapeutic persistence against host immune responses. In this review, we discuss the production methods of CAR-VSTs and explore optimization strategies to enhance their functionality, activation profiles, memory persistence, and exhaustion resistance. Emphasis is placed on their unique dual specificity for both antitumor and antiviral responses, along with an in-depth examination of preclinical and clinical outcomes. We highlight how these advances contribute to the efficacy and durability of CAR-VSTs in therapeutic settings, offering new perspectives for broad clinical applications. By focusing on the key mechanisms that enable CAR-VSTs to address autologous CAR-T cell challenges, this review highlights their potential as a promising strategy for developing effective allogeneic CAR-T therapies.\\n\\n---\\n\\n## Redirecting glucose flux during in\\xa0vitro expansion generates epigenetically and metabolically superior T\\xa0cells for cancer immunotherapy.\\n**PMID**: 39879981\\n**Published**: 2025-01-24\\n\\n**Abstract**:\\nCellular therapies are living drugs whose efficacy depends on persistence and survival. Expansion of therapeutic T\\xa0cells employs hypermetabolic culture conditions to promote T\\xa0cell expansion. We show that typical in\\xa0vitro expansion conditions generate metabolically and functionally impaired T\\xa0cells more reliant on aerobic glycolysis than those expanding in\\xa0vivo. We used dichloroacetate (DCA) to modulate glycolytic metabolism during expansion, resulting in elevated mitochondrial capacity, stemness, and improved antitumor efficacy in murine T\\xa0cell receptor (TCR)-Tg and human CAR-T cells. DCA-conditioned T\\xa0cells surprisingly show no elevated intratumoral effector function but rather have improved engraftment. DCA conditioning decreases reliance on glucose, promoting usage of serum-prevalent physiologic carbon sources. Further, DCA conditioning promotes metabolic flux from mitochondria to chromatin, resulting in increased histone acetylation at key longevity genes. Thus, hyperglycemic culture conditions promote expansion at the expense of metabolic flexibility and suggest pharmacologic metabolic rewiring as a beneficial strategy for improvement of cellular immunotherapies.\\n\\n---\\n\\n## Case report: The case of T-cell acute lymphoblastic leukemia treated with chemotherapy followed by anti-CD7 CAR-T cells using retroviral vector.\\n**PMID**: 39877371\\n**Published**: 2025-01-14\\n\\n**Abstract**:\\nCD7-targeted chimeric antigen receptor-T (CAR-T) cell therapy has shown great promise in the treatment of relapsed/refractory T-cell acute lymphoblastic leukemia (T-ALL). In this study, we reported a case of a 34-year-old male patient with T-ALL who finally developed multi-line drug resistance and refractoriness after multiple lines of high-intensity chemotherapy. After physician evaluation, this patient received allogeneic hematopoietic stem cell transplantation (allo-HSCT). Then, The patient remained in complete remission (CR) for four months before a relapse with 26.64% chimerism rate, so he was treated with allogeneic anti-CD7 CAR-T cells after chemotherapy reducing the tumor burden. The CAR-T product was a novel anti-CD7 CAR-T based on retroviral vectors (RV). After infusion, the patient achieved CR within 1 month after anti-CD7 CAR-T infusion and the remission has been ongoing for 9 months to date. Cytokine release syndrome (CRS) 1 was experienced while no immune effector cell-associated neurotoxicity syndrome (ICANS) was found. In addition, CAR copy number peaked at 350, 758 copies/μg on day 6. This case report of clinical treatment of T-ALL with anti-CD7 CAR-T cells prepared using a retroviral vector without gene editing and combined with chemotherapy, which demonstrated that the RV-based anti-CD7 CAR-T cells had good therapeutic effect and high safety in triple-refractory T-ALL patients.\\n\\n---\\n\\n'"
      ]
     },
     "execution_count": 89,
     "metadata": {},
     "output_type": "execute_result"
    }
   ],
   "source": [
    "pubmed_search.invoke(\"Cart T-cell therapy for cancer\")"
   ]
  },
  {
   "cell_type": "code",
   "execution_count": 90,
   "metadata": {},
   "outputs": [
    {
     "name": "stdout",
     "output_type": "stream",
     "text": [
      "# PubMed Search Results\n",
      "\n",
      "## T-cell neoplasias and secondary malignancies after CAR-T cell therapy: current knowledge, risk factors, and implications from CAR-T engineering strategies.\n",
      "**PMID**: 39894954\n",
      "**Published**: 2025-02-02\n",
      "\n",
      "**Abstract**:\n",
      "Widespread use of CAR-T cell therapies for treatment of B cell malignancies has resulted in a frameshift in treatment strategies and improved patient outcomes since the first CAR-T product was FDA approved in 2017. Currently over 30,000 patients have been treated with approved CAR-T cell products, with many more likely to be treated in future, both as standard of care therapy as well as on clinical trials. As more patients are treated, development of rare complications has begun to emerge, and the incidence of second primary malignancies after CAR-T cell therapy is evolving from a hypothetical to a realized concern. Furthermore, in November 2023, the FDA issued a warning regarding the potential for CAR-T cell-derived T cell neoplasias to arise as a result of CAR-T manufacturing. Here we review patient risk factors for development of second primary malignancies including T cell neoplasias, CAR-T engineering strategies that may increase this risk, and the current body of literature surrounding incidence of second primary malignancies and case reports of T cell neoplasias arising after CAR-T cell therapy.\n",
      "\n",
      "---\n",
      "\n",
      "## Treatment failure patterns in early versus late introduction of CAR T-cell therapy in large B-cell lymphoma.\n",
      "**PMID**: 39893244\n",
      "**Published**: 2025-02-01\n",
      "\n",
      "**Abstract**:\n",
      "CD19-directed chimeric antigen receptor T-cell (CAR-T) therapy has recently been approved as second-line treatment for relapsed/refractory large B-cell lymphoma (LBCL). This study compares patterns of disease relapse and progression across patients receiving CAR-T as second-line (early administration) versus third or subsequent lines (late administration). We analyzed 354 patients treated with Axicabtagene ciloleucel (71%) and Lisocabtagene maraleucel (29%); 80 (23%) received early administration, and 274 (77%) late administration. One-year overall survival was higher in the early group (82% [95% CI 72-93] vs. 71% [95% CI 66-77], p = 0.048). However, the survival benefit was not sustained in multivariable Cox regression modeling and propensity score matching. One-year cumulative incidences of relapse were similar (37% [95% CI 24-50] vs. 43% [95% CI 37-49], p = 0.2), as were 1-year progression-free survival probabilities (62% [95% CI 50-76] vs. 50% [95% CI 44-57], p = 0.14). The early group exhibited a favorable toxicity profile, with lower rate of grade ≥2 cytokine release syndrome (26% vs. 39%, p = 0.031) and reduced cumulative incidence of severe neutropenia (41% [95% CI 30-52] vs. 55% [95% CI 49-60], p = 0.027). Our results indicate favorable outcomes with CAR-T irrespective of treatment line. The equivalence in disease control suggests that CAR-T resistance mechanisms persist in LBCL failing first-line therapy.\n",
      "\n",
      "---\n",
      "\n",
      "## Allogeneic CD33-directed CAR-NKT cells for the treatment of bone marrow-resident myeloid malignancies.\n",
      "**PMID**: 39893165\n",
      "**Published**: 2025-02-01\n",
      "\n",
      "**Abstract**:\n",
      "Chimeric antigen receptor (CAR)-engineered T cell therapy holds promise for treating myeloid malignancies, but challenges remain in bone marrow (BM) infiltration and targeting BM-resident malignant cells. Current autologous CAR-T therapies also face manufacturing and patient selection issues, underscoring the need for off-the-shelf products. In this study, we characterize primary patient samples and identify a unique therapeutic opportunity for CAR-engineered invariant natural killer T (CAR-NKT) cells. Using stem cell gene engineering and a clinically guided culture method, we generate allogeneic CD33-directed CAR-NKT cells with high yield, purity, and robustness. In preclinical mouse models, CAR-NKT cells exhibit strong BM homing and effectively target BM-resident malignant blast cells, including CD33-low/negative leukemia stem and progenitor cells. Furthermore, CAR-NKT cells synergize with hypomethylating agents, enhancing tumor-killing efficacy. These cells also show minimal off-tumor toxicity, reduced graft-versus-host disease and cytokine release syndrome risks, and resistance to allorejection, highlighting their substantial therapeutic potential for treating myeloid malignancies.\n",
      "\n",
      "---\n",
      "\n",
      "## Selective JAK2 pathway inhibition enhances anti-leukemic functionality in CD19 CAR-T cells.\n",
      "**PMID**: 39891728\n",
      "**Published**: 2025-02-01\n",
      "\n",
      "**Abstract**:\n",
      "The integration of molecular targeted therapeutics with chimeric antigen receptor T (CAR-T) cell therapy represents a novel strategy to amplify the anti-tumor efficacy of immunotherapy. While CD19-targeted CAR-T cells and Janus kinase (JAK) inhibitors have independently shown efficacy against certain B-cell leukemias, such as Philadelphia chromosome-like acute lymphoblastic leukemia, the concurrent use of JAK1/2 inhibitors, such as ruxolitinib, has been implicated in reducing CAR-T cell potency by inhibiting the JAK1-dependent T cell activation pathway. This study explores the combinatorial use of a selective type II JAK2 inhibitor, CHZ868, with CD19 CAR-T cells, revealing a synergistic enhancement of anti-leukemic activity across B-cell tumor models irrespective of JAK2 mutational status. CHZ868-mediated JAK2 inhibition did not induce the exhaustion of CAR-T cells, maintaining efficacy over repeated tumor challenges and significantly extending survival in mouse models engrafted with JAK2 inhibitor-resistant leukemia cells (median survival, CD19 CAR-T + CHZ868 vs. CD19 CAR-T + DMSO: 32 days vs. 26 days, p = 0.0303). Transcriptomic analyses suggest that CHZ868 impedes CAR-T cell differentiation while preserving their proliferative capacity, a crucial factor in maintaining CAR-T cell functionality. Therefore, the selective inhibition of the JAK2 pathway may potentiate CAR-T cell therapy and offer a viable treatment strategy for patients with resistant B-cell leukemias.\n",
      "\n",
      "---\n",
      "\n",
      "## Pulmonary Immunocompromise in Stem Cell Transplantation and Cellular Therapy.\n",
      "**PMID**: 39890284\n",
      "**Published**: 2024-11-29\n",
      "\n",
      "**Abstract**:\n",
      "Hematopoietic cell transplantation (HCT) and cellular therapies, such as chimeric-antigen receptor T-cell (CAR-T) treatments, are potentially curative treatments for certain hematologic malignancies and some nonmalignant disorders. However, pulmonary complications, both infectious and noninfectious, remain a significant cause of morbidity and mortality in patients who receive cellular therapies. This review article provides an overview of pulmonary complications encountered in the context of HCT and CAR-T. The authors discuss mechanisms of underlying immunocompromise that lead to a rise in infections. Additionally, they highlight key noninfectious complications of HCT that can mimic acute infections and suggest diagnostic approaches and preventive strategies to distinguish these entities promptly.\n",
      "\n",
      "---\n",
      "\n",
      "## Recent advances in immunotherapy for cervical cancer.\n",
      "**PMID**: 39888529\n",
      "**Published**: 2025-01-31\n",
      "\n",
      "**Abstract**:\n",
      "Cervical cancer is the third most common malignant tumor in women worldwide in terms of both incidence and mortality. The field of cervical cancer treatment is rapidly evolving, and various combination therapies are being explored to enhance the efficacy of immune checkpoint inhibitors (ICI) and provide new treatment options for patients at different disease stages. Clinical trials involving immune checkpoint inhibitors are now being conducted following a phase 3 trial with cemiplimab, an ICI, which demonstrated a significant improvement in prognosis in advanced or metastatic cervical cancer patients. These trials include monotherapy and combination therapy with other immune therapies, chemotherapy, or radiation therapy. Furthermore, other approaches for controlling tumors via the immune system, such as therapeutic vaccination for specific tumor antigens or immune cell therapy including chimeric antigen receptor (CAR)-T cell therapy and tumor-infiltrating lymphocytes are being investigated. Ongoing trials will continue to illuminate the optimal strategies for combining these therapies and addressing challenges associated with immune checkpoint failure in cervical cancer. Herein, we conducted a review of articles related to immunotherapy for cervical cancer and describe current treatment strategies for cervical cancer via immunotherapy.\n",
      "\n",
      "---\n",
      "\n",
      "## The patient and caregiver experience of CAR T-cell therapy: A qualitative analysis.\n",
      "**PMID**: 39883430\n",
      "**Published**: 2025-01-30\n",
      "\n",
      "**Abstract**:\n",
      "BACKGROUND/PURPOSE: Immunotherapies, such as CAR-T, have revolutionized cancer treatment for some cancers. However, these treatments often require active participation of a family member or friend to act as a caregiver at home for several weeks after infusion. Given the novelty of CAR-T, there is a need to better understand the experience of patients receiving these treatments and their caregivers.\n",
      "METHODS: As part of a larger study, patients receiving CAR-T and their caregivers were recruited to participate in semi-structured interviews about their experiences in treatment within a week of hospital discharge. Guided by the Dyadic Cancer Outcomes framework and using an inductive approach, trained coders qualitatively analyzed interview transcripts to identify key themes.\n",
      "RESULTS: Ten patients and nine of their caregivers participated in interviews in 2021. Three key themes surrounding CAR-T experiences were identified: individual, relational, and contextual. Firstly, the CAR-T experience impacted physical and psychosocial aspects of life for patients and caregivers. Secondly, the isolating and intensive nature of caregiving after discharge affected relationships between patients and caregivers. Thirdly, social contexts such as food, housing, and travel costs complicated the treatment experience.\n",
      "CONCLUSIONS: Although CAR-T is a novel treatment, the experiences of patients and especially caregivers are often similar to those receiving other forms of cancer treatment. However, due to the requirement of a constantly-present caregiver in the weeks after therapy, these experiences may have been intensified. Future work is needed to develop inclusive, family-centered programs to help support patients and their caregivers through cancer treatments.\n",
      "\n",
      "---\n",
      "\n",
      "## Alloreactive-free CAR-VST therapy: a step forward in long-term tumor control in viral context.\n",
      "**PMID**: 39882248\n",
      "**Published**: 2025-01-15\n",
      "\n",
      "**Abstract**:\n",
      "CAR-T cell therapy has revolutionized immunotherapy but its allogeneic application, using various strategies, faces significant challenges including graft-versus-host disease and graft rejection. Recent advances using Virus Specific T cells to generate CAR-VST have demonstrated potential for enhanced persistence and antitumor efficacy, positioning CAR-VSTs as a promising alternative to conventional CAR-T cells in an allogeneic setting. This review provides a comprehensive overview of CAR-VST development, emphasizing strategies to mitigate immunogenicity, such as using a specialized TCR, and approaches to improve therapeutic persistence against host immune responses. In this review, we discuss the production methods of CAR-VSTs and explore optimization strategies to enhance their functionality, activation profiles, memory persistence, and exhaustion resistance. Emphasis is placed on their unique dual specificity for both antitumor and antiviral responses, along with an in-depth examination of preclinical and clinical outcomes. We highlight how these advances contribute to the efficacy and durability of CAR-VSTs in therapeutic settings, offering new perspectives for broad clinical applications. By focusing on the key mechanisms that enable CAR-VSTs to address autologous CAR-T cell challenges, this review highlights their potential as a promising strategy for developing effective allogeneic CAR-T therapies.\n",
      "\n",
      "---\n",
      "\n",
      "## Redirecting glucose flux during in vitro expansion generates epigenetically and metabolically superior T cells for cancer immunotherapy.\n",
      "**PMID**: 39879981\n",
      "**Published**: 2025-01-24\n",
      "\n",
      "**Abstract**:\n",
      "Cellular therapies are living drugs whose efficacy depends on persistence and survival. Expansion of therapeutic T cells employs hypermetabolic culture conditions to promote T cell expansion. We show that typical in vitro expansion conditions generate metabolically and functionally impaired T cells more reliant on aerobic glycolysis than those expanding in vivo. We used dichloroacetate (DCA) to modulate glycolytic metabolism during expansion, resulting in elevated mitochondrial capacity, stemness, and improved antitumor efficacy in murine T cell receptor (TCR)-Tg and human CAR-T cells. DCA-conditioned T cells surprisingly show no elevated intratumoral effector function but rather have improved engraftment. DCA conditioning decreases reliance on glucose, promoting usage of serum-prevalent physiologic carbon sources. Further, DCA conditioning promotes metabolic flux from mitochondria to chromatin, resulting in increased histone acetylation at key longevity genes. Thus, hyperglycemic culture conditions promote expansion at the expense of metabolic flexibility and suggest pharmacologic metabolic rewiring as a beneficial strategy for improvement of cellular immunotherapies.\n",
      "\n",
      "---\n",
      "\n",
      "## Case report: The case of T-cell acute lymphoblastic leukemia treated with chemotherapy followed by anti-CD7 CAR-T cells using retroviral vector.\n",
      "**PMID**: 39877371\n",
      "**Published**: 2025-01-14\n",
      "\n",
      "**Abstract**:\n",
      "CD7-targeted chimeric antigen receptor-T (CAR-T) cell therapy has shown great promise in the treatment of relapsed/refractory T-cell acute lymphoblastic leukemia (T-ALL). In this study, we reported a case of a 34-year-old male patient with T-ALL who finally developed multi-line drug resistance and refractoriness after multiple lines of high-intensity chemotherapy. After physician evaluation, this patient received allogeneic hematopoietic stem cell transplantation (allo-HSCT). Then, The patient remained in complete remission (CR) for four months before a relapse with 26.64% chimerism rate, so he was treated with allogeneic anti-CD7 CAR-T cells after chemotherapy reducing the tumor burden. The CAR-T product was a novel anti-CD7 CAR-T based on retroviral vectors (RV). After infusion, the patient achieved CR within 1 month after anti-CD7 CAR-T infusion and the remission has been ongoing for 9 months to date. Cytokine release syndrome (CRS) 1 was experienced while no immune effector cell-associated neurotoxicity syndrome (ICANS) was found. In addition, CAR copy number peaked at 350, 758 copies/μg on day 6. This case report of clinical treatment of T-ALL with anti-CD7 CAR-T cells prepared using a retroviral vector without gene editing and combined with chemotherapy, which demonstrated that the RV-based anti-CD7 CAR-T cells had good therapeutic effect and high safety in triple-refractory T-ALL patients.\n",
      "\n",
      "---\n",
      "\n",
      "\n"
     ]
    }
   ],
   "source": [
    "print(Out[89])"
   ]
  },
  {
   "cell_type": "code",
   "execution_count": null,
   "metadata": {},
   "outputs": [],
   "source": []
  }
 ],
 "metadata": {
  "kernelspec": {
   "display_name": ".venv",
   "language": "python",
   "name": "python3"
  },
  "language_info": {
   "codemirror_mode": {
    "name": "ipython",
    "version": 3
   },
   "file_extension": ".py",
   "mimetype": "text/x-python",
   "name": "python",
   "nbconvert_exporter": "python",
   "pygments_lexer": "ipython3",
   "version": "3.13.1"
  }
 },
 "nbformat": 4,
 "nbformat_minor": 2
}
